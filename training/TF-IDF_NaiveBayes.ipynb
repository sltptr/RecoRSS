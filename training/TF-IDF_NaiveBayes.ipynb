{
 "cells": [
  {
   "cell_type": "code",
   "execution_count": null,
   "id": "01320042-2fc4-45a1-bc91-2aac7a24bea4",
   "metadata": {},
   "outputs": [],
   "source": [
    "!pip install pandas scikit-learn"
   ]
  },
  {
   "cell_type": "code",
   "execution_count": null,
   "id": "5d9d5b10-0758-4d97-8d44-e330179e625f",
   "metadata": {},
   "outputs": [],
   "source": [
    "%%writefile custom_transformer.py\n",
    "\n",
    "from sklearn.base import TransformerMixin\n",
    "import numpy as np\n",
    "\n",
    "class DenseTransformer(TransformerMixin):\n",
    "    def fit(self, X, y=None, **fit_params):\n",
    "        return self\n",
    "\n",
    "    def transform(self, X, y=None, **fit_params):\n",
    "        return np.asarray(X.todense())"
   ]
  },
  {
   "cell_type": "code",
   "execution_count": null,
   "id": "a7ae8978-d9c2-4782-a56c-473387129396",
   "metadata": {},
   "outputs": [],
   "source": [
    "import os\n",
    "import pandas as pd\n",
    "from sklearn.feature_extraction.text import TfidfVectorizer\n",
    "from sklearn.model_selection import train_test_split\n",
    "from sklearn.pipeline import Pipeline\n",
    "from sklearn.naive_bayes import GaussianNB\n",
    "from sklearn.metrics import classification_report, accuracy_score\n",
    "from sklearn.utils.class_weight import compute_class_weight\n",
    "import joblib\n",
    "\n",
    "pipeline = Pipeline([\n",
    "    ('tfidf', TfidfVectorizer()),\n",
    "    ('to_dense', DenseTransformer()),\n",
    "    ('clf', GaussianNB())\n",
    "])\n",
    "\n",
    "cwd = os.getcwd()\n",
    "data_dir = os.path.join(os.path.dirname(cwd), \"data\")\n",
    "data = pd.read_csv(os.path.join(data_dir, \"data.csv\"))\n",
    "data['is_positive'] = data['is_positive'].map({'t': 1, 'f': 0}).astype('float').values\n",
    "\n",
    "X_train, X_test, y_train, y_test = train_test_split(data['title'], data['is_positive'], test_size=0.2, random_state=42, stratify=data['is_positive'])\n",
    "print(\"Training set class distribution:\", y_train.value_counts(normalize=True))\n",
    "print(\"Test set class distribution:\", y_test.value_counts(normalize=True))\n",
    "classes = np.array([0, 1])\n",
    "class_weights = compute_class_weight('balanced', classes=classes, y=y_train)\n",
    "class_weights_dict = dict(zip(classes, class_weights))\n",
    "sample_weights = np.array([class_weights_dict[label] for label in y_train])\n",
    "pipeline.fit(X_train, y_train, clf__sample_weight=sample_weights)"
   ]
  },
  {
   "cell_type": "code",
   "execution_count": null,
   "id": "32108504-e85e-45ef-a216-b16089afce2f",
   "metadata": {},
   "outputs": [],
   "source": [
    "y_pred = pipeline.predict(X_test)\n",
    "print(classification_report(y_test, y_pred))\n",
    "print('Accuracy:', accuracy_score(y_test, y_pred))"
   ]
  },
  {
   "cell_type": "code",
   "execution_count": null,
   "id": "20db84d1-137b-48ad-a4de-1a981cea50ea",
   "metadata": {},
   "outputs": [],
   "source": [
    "joblib_file = os.path.join(os.path.dirname(os.getcwd()), \"data\", \"tf-idf-nb.joblib\")\n",
    "joblib.dump(pipeline, joblib_file)"
   ]
  },
  {
   "cell_type": "code",
   "execution_count": null,
   "id": "5088cca9-3b61-4849-b24b-157c3f6b0f55",
   "metadata": {},
   "outputs": [],
   "source": []
  }
 ],
 "metadata": {
  "kernelspec": {
   "display_name": "Python 3 (ipykernel)",
   "language": "python",
   "name": "python3"
  },
  "language_info": {
   "codemirror_mode": {
    "name": "ipython",
    "version": 3
   },
   "file_extension": ".py",
   "mimetype": "text/x-python",
   "name": "python",
   "nbconvert_exporter": "python",
   "pygments_lexer": "ipython3",
   "version": "3.12.1"
  }
 },
 "nbformat": 4,
 "nbformat_minor": 5
}
