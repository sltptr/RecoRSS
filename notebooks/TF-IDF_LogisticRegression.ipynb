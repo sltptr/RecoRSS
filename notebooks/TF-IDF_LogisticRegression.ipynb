{
 "cells": [
  {
   "cell_type": "code",
   "execution_count": null,
   "id": "01320042-2fc4-45a1-bc91-2aac7a24bea4",
   "metadata": {},
   "outputs": [],
   "source": [
    "!pip install pandas scikit-learn"
   ]
  },
  {
   "cell_type": "code",
   "execution_count": null,
   "id": "5d9d5b10-0758-4d97-8d44-e330179e625f",
   "metadata": {},
   "outputs": [],
   "source": [
    "import os\n",
    "import pandas as pd\n",
    "from sklearn.feature_extraction.text import TfidfVectorizer\n",
    "from sklearn.model_selection import train_test_split\n",
    "from sklearn.pipeline import Pipeline\n",
    "from sklearn.linear_model import LogisticRegression\n",
    "from sklearn.metrics import classification_report, accuracy_score\n",
    "import joblib\n",
    "\n",
    "pipeline = Pipeline([\n",
    "    ('tfidf', TfidfVectorizer()),\n",
    "    ('clf', LogisticRegression(class_weight='balanced'))\n",
    "])\n",
    "\n",
    "cwd = os.getcwd()\n",
    "data_dir = os.path.join(os.path.dirname(cwd), \"data\")\n",
    "data = pd.read_csv(os.path.join(data_dir, \"data.csv\"))\n",
    "data[\"label\"] = data[\"is_positive\"].map({\"t\": 1, \"f\": 0}).astype(\"float\").values\n",
    "df = data[[\"title\", \"label\"]]\n",
    "\n",
    "X_train, X_test, y_train, y_test = train_test_split(df[\"title\"], df[\"label\"], test_size=0.2, random_state=42)\n",
    "pipeline.fit(X_train, y_train)"
   ]
  },
  {
   "cell_type": "code",
   "execution_count": null,
   "id": "32108504-e85e-45ef-a216-b16089afce2f",
   "metadata": {},
   "outputs": [],
   "source": [
    "y_pred = pipeline.predict(X_test)\n",
    "print(classification_report(y_test, y_pred))\n",
    "print('Accuracy:', accuracy_score(y_test, y_pred))"
   ]
  },
  {
   "cell_type": "code",
   "execution_count": null,
   "id": "20db84d1-137b-48ad-a4de-1a981cea50ea",
   "metadata": {},
   "outputs": [],
   "source": [
    "joblib_file = os.path.join(os.path.dirname(os.getcwd()), \"data\", \"models\", \"tf-idf-logistic.joblib\")\n",
    "joblib.dump(pipeline, joblib_file)"
   ]
  },
  {
   "cell_type": "code",
   "execution_count": null,
   "id": "364035fd-06af-4dc8-b5e5-b51ef28978d7",
   "metadata": {},
   "outputs": [],
   "source": []
  }
 ],
 "metadata": {
  "kernelspec": {
   "display_name": "Python 3 (ipykernel)",
   "language": "python",
   "name": "python3"
  },
  "language_info": {
   "codemirror_mode": {
    "name": "ipython",
    "version": 3
   },
   "file_extension": ".py",
   "mimetype": "text/x-python",
   "name": "python",
   "nbconvert_exporter": "python",
   "pygments_lexer": "ipython3",
   "version": "3.12.1"
  }
 },
 "nbformat": 4,
 "nbformat_minor": 5
}
